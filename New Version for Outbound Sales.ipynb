{
 "cells": [
  {
   "cell_type": "code",
   "execution_count": 2,
   "metadata": {},
   "outputs": [],
   "source": [
    "import csv \n",
    "import requests\n",
    "import os\n",
    "import pandas as pd\n",
    "from openai import OpenAI\n",
    "from bs4 import BeautifulSoup\n",
    "from typing import Dict, List\n",
    "from urllib.parse import urlparse\n",
    "import tkinter as tk\n",
    "from tkinter import filedialog"
   ]
  },
  {
   "cell_type": "code",
   "execution_count": 3,
   "metadata": {},
   "outputs": [],
   "source": [
    "client = OpenAI(\n",
    "    api_key = 'sk-svcacct-XNnYiDVzrJ3Tb8q5SSE_wy2n6L6AAks3onXlCHR2iifEOomzqilw3-cXHG6ZD6aD4rqcBL3R8T3BlbkFJUwgZhxvBp9XVBnCFYQvUFQtNzG--VDzLNKkudsq4YP4cNveJm1r9stlPt57-drV-cKUPGl5-wA',\n",
    ")"
   ]
  },
  {
   "cell_type": "code",
   "execution_count": null,
   "metadata": {},
   "outputs": [],
   "source": [
    "csv_url = input(\"Enter the URL of the CSV file: \")\n",
    "df = pd.read_csv(csv_url)\n",
    "df.head()"
   ]
  },
  {
   "cell_type": "code",
   "execution_count": 5,
   "metadata": {},
   "outputs": [],
   "source": [
    "def scrape_websites(Website):\n",
    "    \n",
    "    try:\n",
    "        response = requests.get(Website, timeout=10)\n",
    "        soup = BeautifulSoup(response.content, 'html.parser')\n",
    "\n",
    "        data = {\n",
    "            'url': Website,\n",
    "            'title': soup.title.string if soup.title else 'No title found',\n",
    "            'meta_description': soup.find('meta', attrs={'name': 'description'})['content'] if soup.find('meta', attrs={'name': 'description'}) else 'No meta description found',\n",
    "            'headings': [h.text for h in soup.find_all(['h1', 'h2', 'h3'])[:5]],\n",
    "            'paragraphs': [p.text for p in soup.find_all('p')[:20]]\n",
    "        }\n",
    "\n",
    "        return data\n",
    "    \n",
    "    except Exception as e:\n",
    "        return \"error\""
   ]
  },
  {
   "cell_type": "code",
   "execution_count": null,
   "metadata": {},
   "outputs": [],
   "source": [
    "df['website_data'] = df['Website'].apply(scrape_websites)\n",
    "df.head()"
   ]
  },
  {
   "cell_type": "code",
   "execution_count": 7,
   "metadata": {},
   "outputs": [],
   "source": [
    "def gpt_prompt_generate_perssonalized_from_website(row):\n",
    "    \n",
    "    website_data = row['website_data']\n",
    "    company_name = row['Company']\n",
    "        \n",
    "    prompt = f\"\"\" Write an introductory line to an email that sounds friendly and personal. Avoid formal or exaggerated expressions, \n",
    "    and aim for a tone that is casual, friendly, and sounds like a real person speaking. \n",
    "    Look at the following company’s website description and use it to share a positive detail about their company’s business: \n",
    "    {website_data}. Start the line with ‘I was on your site and saw {company_name}'  and continue by sharing something they value, \n",
    "    prioritize, or are aiming to accomplish that relates to Litespace. \n",
    "    Do not include any quotation marks and write just one example, do not make a list of examples.\n",
    "    Keep the sentence below 30 words and do not quote their description directly, meaning change up wording\n",
    "    \"\"\"\n",
    "    \n",
    "    try:\n",
    "        response = client.chat.completions.create(\n",
    "            model=\"gpt-3.5-turbo\",\n",
    "            messages=[\n",
    "                {\"role\": \"system\", \"content\": \"You are a helpful assistant that writes personalized outbound sales emails for Litespace who is a startup digitizing human resources and driving performance through improving employee experience.\"},\n",
    "                {\"role\": \"user\", \"content\": prompt}\n",
    "            ],\n",
    "            max_tokens=200,\n",
    "            n=1,\n",
    "            stop=None,\n",
    "            temperature=1.0\n",
    "            )\n",
    "\n",
    "        generated_email = response.choices[0].message.content\n",
    "        return generated_email\n",
    "\n",
    "    except Exception as e:\n",
    "         return f\"Error: {e}\""
   ]
  },
  {
   "cell_type": "code",
   "execution_count": null,
   "metadata": {},
   "outputs": [],
   "source": [
    "df['Message'] = df.apply(gpt_prompt_generate_perssonalized_from_website, axis=1)\n",
    "df.head()"
   ]
  },
  {
   "cell_type": "code",
   "execution_count": null,
   "metadata": {},
   "outputs": [],
   "source": [
    "root = tk.Tk()\n",
    "root.withdraw()\n",
    "save_folder = filedialog.askdirectory(title=\"Select a folder to save the file\")\n",
    "\n",
    "if save_folder:\n",
    "    file_path = os.path.join(save_folder, \"result.csv\")\n",
    "    df.to_csv(file_path, encoding='utf-8-sig', index=False)\n",
    "    print(f\"File saved to: {file_path}\")\n",
    "else:\n",
    "    print(\"No folder selected. File not saved.\")"
   ]
  }
 ],
 "metadata": {
  "kernelspec": {
   "display_name": "Python 3",
   "language": "python",
   "name": "python3"
  },
  "language_info": {
   "codemirror_mode": {
    "name": "ipython",
    "version": 3
   },
   "file_extension": ".py",
   "mimetype": "text/x-python",
   "name": "python",
   "nbconvert_exporter": "python",
   "pygments_lexer": "ipython3",
   "version": "3.11.9"
  }
 },
 "nbformat": 4,
 "nbformat_minor": 2
}
